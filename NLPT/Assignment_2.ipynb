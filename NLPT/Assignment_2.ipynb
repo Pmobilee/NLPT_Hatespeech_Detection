{
 "cells": [
  {
   "cell_type": "markdown",
   "metadata": {},
   "source": [
    "# Assignment 2. Offensive Language Detection"
   ]
  },
  {
   "cell_type": "markdown",
   "metadata": {},
   "source": [
    "## Part A: Fine-tune BERT for offensive language detection (7 points)"
   ]
  },
  {
   "cell_type": "markdown",
   "metadata": {},
   "source": [
    "### 1.  Class distributions (1 point)\n",
    "\n",
    "Load the training set (olid-train.csv) and analyze the number of instances for each of the two \n",
    "classification labels."
   ]
  },
  {
   "cell_type": "code",
   "execution_count": 5,
   "metadata": {},
   "outputs": [],
   "source": [
    "import os \n",
    "import numpy as np\n",
    "import pandas as pd\n",
    "\n",
    "cwd = os.getcwd()"
   ]
  },
  {
   "cell_type": "code",
   "execution_count": 9,
   "metadata": {},
   "outputs": [
    {
     "data": {
      "text/html": [
       "<div>\n",
       "<style scoped>\n",
       "    .dataframe tbody tr th:only-of-type {\n",
       "        vertical-align: middle;\n",
       "    }\n",
       "\n",
       "    .dataframe tbody tr th {\n",
       "        vertical-align: top;\n",
       "    }\n",
       "\n",
       "    .dataframe thead th {\n",
       "        text-align: right;\n",
       "    }\n",
       "</style>\n",
       "<table border=\"1\" class=\"dataframe\">\n",
       "  <thead>\n",
       "    <tr style=\"text-align: right;\">\n",
       "      <th></th>\n",
       "      <th>id</th>\n",
       "      <th>text</th>\n",
       "      <th>labels</th>\n",
       "    </tr>\n",
       "  </thead>\n",
       "  <tbody>\n",
       "    <tr>\n",
       "      <th>0</th>\n",
       "      <td>86426</td>\n",
       "      <td>@USER She should ask a few native Americans wh...</td>\n",
       "      <td>1</td>\n",
       "    </tr>\n",
       "    <tr>\n",
       "      <th>1</th>\n",
       "      <td>90194</td>\n",
       "      <td>@USER @USER Go home you’re drunk!!! @USER #MAG...</td>\n",
       "      <td>1</td>\n",
       "    </tr>\n",
       "    <tr>\n",
       "      <th>2</th>\n",
       "      <td>16820</td>\n",
       "      <td>Amazon is investigating Chinese employees who ...</td>\n",
       "      <td>0</td>\n",
       "    </tr>\n",
       "    <tr>\n",
       "      <th>3</th>\n",
       "      <td>62688</td>\n",
       "      <td>@USER Someone should'veTaken\" this piece of sh...</td>\n",
       "      <td>1</td>\n",
       "    </tr>\n",
       "    <tr>\n",
       "      <th>4</th>\n",
       "      <td>43605</td>\n",
       "      <td>@USER @USER Obama wanted liberals &amp;amp; illega...</td>\n",
       "      <td>0</td>\n",
       "    </tr>\n",
       "    <tr>\n",
       "      <th>...</th>\n",
       "      <td>...</td>\n",
       "      <td>...</td>\n",
       "      <td>...</td>\n",
       "    </tr>\n",
       "    <tr>\n",
       "      <th>13235</th>\n",
       "      <td>95338</td>\n",
       "      <td>@USER Sometimes I get strong vibes from people...</td>\n",
       "      <td>1</td>\n",
       "    </tr>\n",
       "    <tr>\n",
       "      <th>13236</th>\n",
       "      <td>67210</td>\n",
       "      <td>Benidorm ✅  Creamfields ✅  Maga ✅   Not too sh...</td>\n",
       "      <td>0</td>\n",
       "    </tr>\n",
       "    <tr>\n",
       "      <th>13237</th>\n",
       "      <td>82921</td>\n",
       "      <td>@USER And why report this garbage.  We don't g...</td>\n",
       "      <td>1</td>\n",
       "    </tr>\n",
       "    <tr>\n",
       "      <th>13238</th>\n",
       "      <td>27429</td>\n",
       "      <td>@USER Pussy</td>\n",
       "      <td>1</td>\n",
       "    </tr>\n",
       "    <tr>\n",
       "      <th>13239</th>\n",
       "      <td>46552</td>\n",
       "      <td>#Spanishrevenge vs. #justice #HumanRights and ...</td>\n",
       "      <td>0</td>\n",
       "    </tr>\n",
       "  </tbody>\n",
       "</table>\n",
       "<p>13240 rows × 3 columns</p>\n",
       "</div>"
      ],
      "text/plain": [
       "          id                                               text  labels\n",
       "0      86426  @USER She should ask a few native Americans wh...       1\n",
       "1      90194  @USER @USER Go home you’re drunk!!! @USER #MAG...       1\n",
       "2      16820  Amazon is investigating Chinese employees who ...       0\n",
       "3      62688  @USER Someone should'veTaken\" this piece of sh...       1\n",
       "4      43605  @USER @USER Obama wanted liberals &amp; illega...       0\n",
       "...      ...                                                ...     ...\n",
       "13235  95338  @USER Sometimes I get strong vibes from people...       1\n",
       "13236  67210  Benidorm ✅  Creamfields ✅  Maga ✅   Not too sh...       0\n",
       "13237  82921  @USER And why report this garbage.  We don't g...       1\n",
       "13238  27429                                        @USER Pussy       1\n",
       "13239  46552  #Spanishrevenge vs. #justice #HumanRights and ...       0\n",
       "\n",
       "[13240 rows x 3 columns]"
      ]
     },
     "execution_count": 9,
     "metadata": {},
     "output_type": "execute_result"
    }
   ],
   "source": [
    "olid_train = pd.read_csv(f\"{cwd}/data/OLIDv1/olid-train.csv\", sep=\",\")\n",
    "olid_train"
   ]
  },
  {
   "cell_type": "code",
   "execution_count": 13,
   "metadata": {},
   "outputs": [
    {
     "data": {
      "text/html": [
       "<div>\n",
       "<style scoped>\n",
       "    .dataframe tbody tr th:only-of-type {\n",
       "        vertical-align: middle;\n",
       "    }\n",
       "\n",
       "    .dataframe tbody tr th {\n",
       "        vertical-align: top;\n",
       "    }\n",
       "\n",
       "    .dataframe thead th {\n",
       "        text-align: right;\n",
       "    }\n",
       "</style>\n",
       "<table border=\"1\" class=\"dataframe\">\n",
       "  <thead>\n",
       "    <tr style=\"text-align: right;\">\n",
       "      <th></th>\n",
       "      <th>Class label</th>\n",
       "      <th>Number of Instances</th>\n",
       "      <th>Relative label frequency (%)</th>\n",
       "      <th>Example tweet with this label</th>\n",
       "    </tr>\n",
       "  </thead>\n",
       "  <tbody>\n",
       "    <tr>\n",
       "      <th>0</th>\n",
       "      <td>1 (OFF)</td>\n",
       "      <td>4400</td>\n",
       "      <td>0.33</td>\n",
       "      <td>@USER Oh noes! Tough shit.</td>\n",
       "    </tr>\n",
       "    <tr>\n",
       "      <th>1</th>\n",
       "      <td>0 (NON-OFF)</td>\n",
       "      <td>8840</td>\n",
       "      <td>0.67</td>\n",
       "      <td>@USER You can tell he is a hooper too</td>\n",
       "    </tr>\n",
       "  </tbody>\n",
       "</table>\n",
       "</div>"
      ],
      "text/plain": [
       "   Class label  Number of Instances  Relative label frequency (%)  \\\n",
       "0      1 (OFF)                 4400                          0.33   \n",
       "1  0 (NON-OFF)                 8840                          0.67   \n",
       "\n",
       "           Example tweet with this label  \n",
       "0             @USER Oh noes! Tough shit.  \n",
       "1  @USER You can tell he is a hooper too  "
      ]
     },
     "execution_count": 13,
     "metadata": {},
     "output_type": "execute_result"
    }
   ],
   "source": [
    "num_1 = sum(olid_train[\"labels\"] == 1) \n",
    "num_0 = sum(olid_train[\"labels\"] == 0) \n",
    "\n",
    "class_dis = pd.DataFrame({\n",
    "    \"Class label\" : [\"1 (OFF)\", \"0 (NON-OFF)\"],\n",
    "    \"Number of Instances\" : [num_1, num_0],\n",
    "    \"Relative label frequency (%)\" : [round(num_1 / len(olid_train[\"labels\"]), 2), round(num_0 / len(olid_train[\"labels\"]), 2)],\n",
    "    \"Example tweet with this label\" : [\"@USER Oh noes! Tough shit.\", \"@USER You can tell he is a hooper too\" ] \n",
    "    })\n",
    "\n",
    "class_dis"
   ]
  },
  {
   "cell_type": "markdown",
   "metadata": {},
   "source": [
    "### 2. Baselines (1 point) \n",
    "\n",
    "Calculate two baselines and evaluate their performance on the test set (olid-test.csv): \n",
    "\n",
    "● The first baseline is a random baseline that randomly assigns one of the 2 classification \n",
    "labels. \n",
    "\n",
    "● The second baseline is a majority baseline that always assigns the majority class. \n",
    "\n",
    "Calculate the results on the test set and fill them into the two tables below. Round the results to \n",
    "two decimals. "
   ]
  }
 ],
 "metadata": {
  "interpreter": {
   "hash": "c234bff089bb21576e16c9e17f303c05851bbf8101f282d449142284f81c5e56"
  },
  "kernelspec": {
   "display_name": "Python 3.9.12 ('DMT')",
   "language": "python",
   "name": "python3"
  },
  "language_info": {
   "codemirror_mode": {
    "name": "ipython",
    "version": 3
   },
   "file_extension": ".py",
   "mimetype": "text/x-python",
   "name": "python",
   "nbconvert_exporter": "python",
   "pygments_lexer": "ipython3",
   "version": "3.9.0"
  },
  "orig_nbformat": 4
 },
 "nbformat": 4,
 "nbformat_minor": 2
}
